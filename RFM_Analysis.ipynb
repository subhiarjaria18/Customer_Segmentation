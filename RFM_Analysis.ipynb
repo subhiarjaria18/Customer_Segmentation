{
 "cells": [
  {
   "cell_type": "code",
   "execution_count": 79,
   "id": "08d0445f-f9bc-4aed-81e6-d66c0ea0cbdc",
   "metadata": {},
   "outputs": [],
   "source": [
    "import datetime as dt\n",
    "import pandas as pd\n",
    "pd.set_option('display.max_columns', None)"
   ]
  },
  {
   "cell_type": "code",
   "execution_count": 81,
   "id": "af606db7-4451-4504-b288-b4fe584a5b9c",
   "metadata": {},
   "outputs": [],
   "source": [
    "df = pd.read_excel(\"online_retail_II.xlsx\", sheet_name=\"Year 2010-2011\")\n"
   ]
  },
  {
   "cell_type": "code",
   "execution_count": 83,
   "id": "97fb62ef-ea75-44a6-b5fc-a7e938bf4b54",
   "metadata": {},
   "outputs": [
    {
     "name": "stdout",
     "output_type": "stream",
     "text": [
      "Invoice             0\n",
      "StockCode           0\n",
      "Description      1454\n",
      "Quantity            0\n",
      "InvoiceDate         0\n",
      "Price               0\n",
      "Customer ID    135080\n",
      "Country             0\n",
      "dtype: int64\n"
     ]
    }
   ],
   "source": [
    "df.head()\n",
    "# Number of NaN values per column:\n",
    "print(df.isnull().sum())\n"
   ]
  },
  {
   "cell_type": "code",
   "execution_count": 85,
   "id": "c0821eef-b493-4591-91b2-5ce0bb563bc5",
   "metadata": {},
   "outputs": [],
   "source": [
    "# Convert Quantity to numeric, coercing errors to NaN\n",
    "df['Quantity'] = pd.to_numeric(df['Quantity'], errors='coerce')"
   ]
  },
  {
   "cell_type": "code",
   "execution_count": 87,
   "id": "8703d962-89a4-471d-97ca-c91db3adc9e9",
   "metadata": {},
   "outputs": [],
   "source": [
    "# Drop rows with NaN values in any column\n",
    "df.dropna(inplace=True)"
   ]
  },
  {
   "cell_type": "code",
   "execution_count": 89,
   "id": "d102c1f3-ca79-4ff3-946a-9be0c2fb2f3c",
   "metadata": {},
   "outputs": [],
   "source": [
    "# Filter out rows with negative Quantity and invoices containing \"C\"\n",
    "df = df[(df['Quantity'] > 0) & (~df['Invoice'].str.contains(\"C\", na=False))]"
   ]
  },
  {
   "cell_type": "code",
   "execution_count": 91,
   "id": "e2233cc4-0b6e-45e5-9773-548f240f82af",
   "metadata": {},
   "outputs": [
    {
     "name": "stdout",
     "output_type": "stream",
     "text": [
      "                count                           mean                  min  \\\n",
      "Quantity     397925.0                      13.021793                  1.0   \n",
      "InvoiceDate    397925  2011-07-10 23:44:09.817126400  2010-12-01 08:26:00   \n",
      "Price        397925.0                       3.116212                  0.0   \n",
      "Customer ID  397925.0                   15294.308601              12346.0   \n",
      "\n",
      "                              1%                  25%                  50%  \\\n",
      "Quantity                     1.0                  2.0                  6.0   \n",
      "InvoiceDate  2010-12-03 10:26:00  2011-04-07 11:12:00  2011-07-31 14:39:00   \n",
      "Price                       0.21                 1.25                 1.95   \n",
      "Customer ID              12415.0              13969.0              15159.0   \n",
      "\n",
      "                             75%                  99%                  max  \\\n",
      "Quantity                    12.0                120.0              80995.0   \n",
      "InvoiceDate  2011-10-20 14:33:00  2011-12-07 14:01:00  2011-12-09 12:50:00   \n",
      "Price                       3.75                14.95              8142.75   \n",
      "Customer ID              16795.0              18211.0              18287.0   \n",
      "\n",
      "                     std  \n",
      "Quantity      180.419984  \n",
      "InvoiceDate          NaN  \n",
      "Price          22.096773  \n",
      "Customer ID  1713.172738  \n"
     ]
    }
   ],
   "source": [
    "# Describe with specified percentiles\n",
    "description = df.describe([0.01, 0.25, 0.50, 0.75, 0.99]).T\n",
    "print(description)"
   ]
  },
  {
   "cell_type": "code",
   "execution_count": 93,
   "id": "4401f57c-fb23-449a-ab2f-bb5c825b5aed",
   "metadata": {},
   "outputs": [],
   "source": [
    "def outlier_thresholds(dataframe, variable):\n",
    "    quartile1 = dataframe[variable].quantile(0.01)\n",
    "    quartile3 = dataframe[variable].quantile(0.99)\n",
    "    interquantile_range = quartile3 - quartile1\n",
    "    up_limit = quartile3 + 1.5 * interquantile_range\n",
    "    low_limit = quartile1 - 1.5 * interquantile_range\n",
    "    return low_limit, up_limit"
   ]
  },
  {
   "cell_type": "code",
   "execution_count": 95,
   "id": "d18c4372-a6e1-4304-af6d-8197301273d2",
   "metadata": {},
   "outputs": [],
   "source": [
    "# Define the function to replace outliers with thresholds\n",
    "def replace_with_thresholds(dataframe, variable):\n",
    "    low_limit, up_limit = outlier_thresholds(dataframe, variable)\n",
    "    dataframe.loc[(dataframe[variable] > up_limit), variable] = up_limit"
   ]
  },
  {
   "cell_type": "code",
   "execution_count": 97,
   "id": "75c8dd94-db72-412a-b291-1999c7d27d14",
   "metadata": {},
   "outputs": [],
   "source": [
    "# Define your outlier_thresholds function (assuming it's already defined elsewhere in your script)\n",
    "def outlier_thresholds(dataframe, variable):\n",
    "    # Implement your logic to calculate low_limit and up_limit for outlier thresholds\n",
    "    # Example:\n",
    "    low_limit = dataframe[variable].quantile(0.01)\n",
    "    up_limit = dataframe[variable].quantile(0.99)\n",
    "    return low_limit, up_limit"
   ]
  },
  {
   "cell_type": "code",
   "execution_count": 99,
   "id": "b4ae2694-9250-492c-8f4c-5dc4bea2524e",
   "metadata": {},
   "outputs": [],
   "source": [
    "# Now, let's calculate RFM metrics and segmentation\n",
    "\n",
    "# Calculate TotalPrice\n",
    "df[\"TotalPrice\"] = df[\"Quantity\"] * df[\"Price\"]\n",
    "\n",
    "# Set today's date\n",
    "today_date = dt.datetime(2011, 12, 11)\n",
    "\n",
    "# Calculate Recency, Frequency, and Monetary metrics for RFM analysis\n",
    "rfm = df.groupby(\"Customer ID\").agg({\n",
    "    \"InvoiceDate\": lambda date: (today_date - date.max()).days,\n",
    "    \"Invoice\": lambda num: num.nunique(),\n",
    "    \"TotalPrice\": lambda price: price.sum()\n",
    "})"
   ]
  },
  {
   "cell_type": "code",
   "execution_count": 101,
   "id": "b832728e-b11b-4785-b001-7bc988357a19",
   "metadata": {},
   "outputs": [],
   "source": [
    "# Rename columns for clarity\n",
    "rfm.columns = ['Recency', 'Frequency', \"Monetary\"]\n",
    "\n",
    "# Reset index to bring 'Customer ID' back as a column\n",
    "rfm.reset_index(inplace=True)\n"
   ]
  },
  {
   "cell_type": "code",
   "execution_count": 103,
   "id": "e8c766cd-d159-4303-9163-d066eb5ccb94",
   "metadata": {},
   "outputs": [],
   "source": [
    "# Calculate RFM scores\n",
    "rfm[\"RecencyScore\"] = pd.qcut(rfm[\"Recency\"], 5, labels=[5, 4, 3, 2, 1])\n",
    "rfm[\"FrequencyScore\"] = pd.qcut(rfm[\"Frequency\"].rank(method=\"first\"), 5, labels=[1, 2, 3, 4, 5])\n",
    "rfm[\"MonetaryScore\"] = pd.qcut(rfm[\"Monetary\"], 5, labels=[1, 2, 3, 4, 5])"
   ]
  },
  {
   "cell_type": "code",
   "execution_count": 105,
   "id": "15b28d37-19c5-4e42-9e18-cf0a24e52fd9",
   "metadata": {},
   "outputs": [],
   "source": [
    "# Combine RFM scores into RFM_SCORE as a concatenated string\n",
    "rfm[\"RFM_SCORE\"] = (rfm['RecencyScore'].astype(str) +\n",
    "                    rfm['FrequencyScore'].astype(str) +\n",
    "                    rfm['MonetaryScore'].astype(str))"
   ]
  },
  {
   "cell_type": "code",
   "execution_count": 107,
   "id": "45be4722-8e16-4e5c-b810-302958843012",
   "metadata": {},
   "outputs": [],
   "source": [
    "# Define segment mapping based on RFM_SCORE ranges\n",
    "seg_map = {\n",
    "    r'[1-2][1-2]': 'Hibernating',\n",
    "    r'[1-2][3-4]': 'At_Risk',\n",
    "    r'[1-2]5': 'Cant_Loose',\n",
    "    r'3[1-2]': 'About_to_Sleep',\n",
    "    r'33': 'Need_Attention',\n",
    "    r'[3-4][4-5]': 'Loyal_Customers',\n",
    "    r'41': 'Promising',\n",
    "    r'51': 'New_Customers',\n",
    "    r'[4-5][2-3]': 'Potential_Loyalists',\n",
    "    r'5[4-5]': 'Champions'\n",
    "}"
   ]
  },
  {
   "cell_type": "code",
   "execution_count": 109,
   "id": "23aec344-b923-420a-83f3-d8a3c8c0ce6a",
   "metadata": {},
   "outputs": [],
   "source": [
    "# Create 'Segment' based on RecencyScore and FrequencyScore using seg_map\n",
    "rfm['Segment'] = rfm['RecencyScore'].astype(str) + rfm['FrequencyScore'].astype(str)\n",
    "rfm['Segment'] = rfm['Segment'].replace(seg_map, regex=True)"
   ]
  },
  {
   "cell_type": "code",
   "execution_count": 143,
   "id": "5a1042cd-9843-43a3-8c9a-cab2629905e9",
   "metadata": {},
   "outputs": [
    {
     "name": "stdin",
     "output_type": "stream",
     "text": [
      "Enter Customer ID:  12345\n"
     ]
    },
    {
     "name": "stdout",
     "output_type": "stream",
     "text": [
      "Segment for Customer ID 12345.0: Customer ID not found in the dataset\n"
     ]
    }
   ],
   "source": [
    "\n",
    "# Function to find segment for a specific Customer ID\n",
    "def find_customer_segment(customer_id):\n",
    "    try:\n",
    "        segment = rfm.loc[rfm[\"Customer ID\"] == customer_id, \"Segment\"].values[0]\n",
    "        return segment\n",
    "    except IndexError:\n",
    "        return \"Customer ID not found in the dataset\"\n",
    "\n",
    "\n",
    "if __name__ == \"__main__\":\n",
    "    try:\n",
    "        customer_id = float(input(\"Enter Customer ID: \"))\n",
    "        segment = find_customer_segment(customer_id)\n",
    "        print(f\"Segment for Customer ID {customer_id}: {segment}\")\n",
    "    except ValueError:\n",
    "        print(\"Please enter a valid Customer ID\")"
   ]
  },
  {
   "cell_type": "code",
   "execution_count": 145,
   "id": "ba1e5493-32a9-4f82-8ea5-b9adf8f3beae",
   "metadata": {},
   "outputs": [
    {
     "name": "stdout",
     "output_type": "stream",
     "text": [
      "Segment for Customer ID 12347.0: Champions\n"
     ]
    }
   ],
   "source": [
    "# Now, find the segment for a specific Customer ID\n",
    "Customer_ID = 12347.0\n",
    "customer_segment = rfm[rfm[\"Customer ID\"] == Customer_ID][\"Segment\"].values[0]\n",
    "\n",
    "# Print the segment for the specified Customer ID\n",
    "print(f\"Segment for Customer ID {Customer_ID}: {customer_segment}\") "
   ]
  },
  {
   "cell_type": "code",
   "execution_count": null,
   "id": "1821c1f6-b728-42ce-bb7e-94e26df46bf9",
   "metadata": {},
   "outputs": [],
   "source": []
  }
 ],
 "metadata": {
  "kernelspec": {
   "display_name": "Python 3 (ipykernel)",
   "language": "python",
   "name": "python3"
  },
  "language_info": {
   "codemirror_mode": {
    "name": "ipython",
    "version": 3
   },
   "file_extension": ".py",
   "mimetype": "text/x-python",
   "name": "python",
   "nbconvert_exporter": "python",
   "pygments_lexer": "ipython3",
   "version": "3.11.7"
  }
 },
 "nbformat": 4,
 "nbformat_minor": 5
}
